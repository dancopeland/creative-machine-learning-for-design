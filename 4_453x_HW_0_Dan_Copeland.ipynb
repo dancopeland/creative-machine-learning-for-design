{
  "nbformat": 4,
  "nbformat_minor": 0,
  "metadata": {
    "colab": {
      "provenance": [],
      "include_colab_link": true
    },
    "kernelspec": {
      "name": "python3",
      "display_name": "Python 3"
    },
    "language_info": {
      "name": "python"
    }
  },
  "cells": [
    {
      "cell_type": "markdown",
      "metadata": {
        "id": "view-in-github",
        "colab_type": "text"
      },
      "source": [
        "<a href=\"https://colab.research.google.com/github/dancopeland/creative-machine-learning-for-design/blob/master/4_453x_HW_0_Dan_Copeland.ipynb\" target=\"_parent\"><img src=\"https://colab.research.google.com/assets/colab-badge.svg\" alt=\"Open In Colab\"/></a>"
      ]
    },
    {
      "cell_type": "markdown",
      "source": [
        "#Homework 0 | Introductory exercise 🔥\n",
        "4.453x Creative Machine Learning for Design \n",
        "<br/>*Renaud Danhaive, Ous Abou Ras, Natasha Hirt, Caitlin Mueller*\n",
        "<br/><br/>\n",
        "\n",
        "\n",
        "---\n",
        "<font size=\"-1\">*Please **make a copy** of this file in your own Google Drive to edit as the original notebook will be private, and you might lose access to your file if you don't save it.*\n",
        " **You don't need to submit this notebook, you only need to submit your answers in the [Google form](https://docs.google.com/forms/d/e/1FAIpQLScTixvHOuwRY7-_kjGF7nqY7NzUKHxs24iRBotuZjsWCvuYFw/viewform).**</font>\n",
        "<br/><br/>\n",
        "\n",
        "This short exercise is to help us verify your experience in Python. You will be needing the libraries NumPy and MatplotLib to complete this assignment.\n",
        "\n",
        "For this exercise, you will need to **plot a heat map** of the Goldstein-price function, **plot a histogram of the z-values in the surface**, and **find its mean and median**. The notebook below will walk you through the steps needed to complete this assignment, but you are expected to write your own code for the most part. Please submit your answers on this [Google form](https://docs.google.com/forms/d/e/1FAIpQLScTixvHOuwRY7-_kjGF7nqY7NzUKHxs24iRBotuZjsWCvuYFw/viewform) by the deadline specified. You can screenshot or use the Snippet tool to submit your plot results.\n"
      ],
      "metadata": {
        "id": "Ojfi1cmxarwa"
      }
    },
    {
      "cell_type": "markdown",
      "source": [
        "-----------------"
      ],
      "metadata": {
        "id": "XfipBjZkcH9y"
      }
    },
    {
      "cell_type": "markdown",
      "source": [
        "### 0.0 | To start, we provide you with the library imports you will need, NumPy and Matplotlib."
      ],
      "metadata": {
        "id": "Rx-aRCHccMsH"
      }
    },
    {
      "cell_type": "code",
      "source": [
        "# imports\n",
        "import numpy as np\n",
        "import matplotlib.pyplot as plt"
      ],
      "metadata": {
        "id": "dC2uX_B1QvsA"
      },
      "execution_count": 5,
      "outputs": []
    },
    {
      "cell_type": "markdown",
      "source": [
        "### 1.0 ❓ The next step is to find the Goldstein-Price function on Wikipedia using this [link](https://en.wikipedia.org/wiki/Test_functions_for_optimization) and defining the function and a range of x and y values with the correct corresponding boundaries/domain (see \"search domain\" in the Wikipedia table). Then find all z values for all x and y using that function. You are basically finding the z coordinates of a surface given a 2D grid of x and y!\n",
        "\n",
        "*NOTE: To define x and y, you can use `np.arange` with a step of `0.1` or `np.linspace` with a resolution of `40` (or whatever resolution you feel is best!). You can refer to the numpy documentation for either functions. Here are links for [np.arange](https://numpy.org/doc/stable/reference/generated/numpy.arange.html) and [np.linspace](https://numpy.org/doc/stable/reference/generated/numpy.linspace.html) .*"
      ],
      "metadata": {
        "id": "I2-WDkjsca4T"
      }
    },
    {
      "cell_type": "code",
      "source": [
        "# x and y ranges\n",
        "\n",
        "# Create a Goldstein function using `def goldstein_func(x,y):`\n",
        "\n",
        "# Define all Z values for all x and y using the function\n",
        "\n",
        "def goldstein_func(x,y):\n",
        "  term1 = 1+((x+y+1)**2*(19-14*x+3*(x**2)-14*y+6*x*y+3*(y**2)))\n",
        "  term2 = (30+(2*x-3*y)**2)*(18-32*x+12*(x**2)+48*y-36*x*y+27*(y**2))\n",
        "                                                                                                                       \n",
        "  return  term1*(term2)\n",
        "\n",
        "\n",
        "x = np.linspace(-2, 2, 40)\n",
        "y = np.linspace(-2, 2, 40)\n",
        "xv, yv = np.meshgrid(x, y)\n",
        "\n",
        "zz = goldstein_func(xv,yv)\n"
      ],
      "metadata": {
        "id": "HKhODMwZdqat"
      },
      "execution_count": 30,
      "outputs": []
    },
    {
      "cell_type": "markdown",
      "source": [
        "### 2.0 ❓ Next, plot a 2D heat map of the function/surface (in other words, an overhead or plan view). \n",
        "\n",
        "*You will need to use [`plt.imshow`](https://matplotlib.org/stable/api/_as_gen/matplotlib.pyplot.imshow.html). Feel free to search the internet for examples on how this is done!*"
      ],
      "metadata": {
        "id": "QEVp4SZGd8_H"
      }
    },
    {
      "cell_type": "code",
      "source": [
        "# plot the heat map!\n",
        "\n",
        "h = plt.contourf(x, y, zz)\n",
        "plt.axis('scaled')\n",
        "plt.colorbar()\n",
        "plt.show()"
      ],
      "metadata": {
        "id": "G1zm8lb5gDlj",
        "colab": {
          "base_uri": "https://localhost:8080/",
          "height": 276
        },
        "outputId": "85d28dc7-2783-4610-d9f1-70cb534934f9"
      },
      "execution_count": 31,
      "outputs": [
        {
          "output_type": "display_data",
          "data": {
            "text/plain": [
              "<Figure size 432x288 with 2 Axes>"
            ],
            "image/png": "[encoded data removed]"
          },
          "metadata": {
            "needs_background": "light"
          }
        }
      ]
    },
    {
      "cell_type": "markdown",
      "source": [
        "### 3.0 ❓ Another way to understand the characteristics of the surface in a non-spatial way is to get a sense for its z-values.  We'll use a histogram for this.  Plot a histogram of all the z-values of the function/surface. Remember that z is currently a 2D array so you will need to flatten it (convert it into a 1D array/vector) to be able to plot the histogram. \n",
        "\n",
        "*To plot a histogram, you can use [`plt.hist`](https://matplotlib.org/stable/api/_as_gen/matplotlib.pyplot.hist.html) and you can flatten a numpy array using the `some_array.flatten()` class.*\n"
      ],
      "metadata": {
        "id": "YN5QNICbXYgQ"
      }
    },
    {
      "cell_type": "code",
      "source": [
        "# plot the histogram!\n",
        "plt.hist(zz.flatten())"
      ],
      "metadata": {
        "id": "TIyqphvdg8V7",
        "colab": {
          "base_uri": "https://localhost:8080/",
          "height": 385
        },
        "outputId": "b3cbd60f-31c9-4777-ffb3-2c9f70dcfc56"
      },
      "execution_count": 32,
      "outputs": [
        {
          "output_type": "execute_result",
          "data": {
            "text/plain": [
              "(array([874., 399., 151.,  84.,  31.,  20.,  14.,  11.,   8.,   8.]),\n",
              " array([-101283.43859985,   44691.03745155,  190665.51350294,\n",
              "         336639.98955433,  482614.46560573,  628588.94165712,\n",
              "         774563.41770852,  920537.89375991, 1066512.36981131,\n",
              "        1212486.8458627 , 1358461.3219141 ]),\n",
              " <a list of 10 Patch objects>)"
            ]
          },
          "metadata": {},
          "execution_count": 32
        },
        {
          "output_type": "display_data",
          "data": {
            "text/plain": [
              "<Figure size 432x288 with 1 Axes>"
            ],
            "image/png": "[encoded data removed]"
          },
          "metadata": {
            "needs_background": "light"
          }
        }
      ]
    },
    {
      "cell_type": "markdown",
      "source": [
        "### 4.0 ❓ Finally, let's use some summary statistics to characterize this geometry.  Find the mean and the median of the z-values of the surface. \n",
        "\n",
        "*You can use `np.mean()` and `np.median` for that. You can search the numpy documentation to figure out how to use them as well. *\n",
        "\n",
        "#### **Print the values and submit them on the Google form!**"
      ],
      "metadata": {
        "id": "GTZwshFLhACW"
      }
    },
    {
      "cell_type": "code",
      "source": [
        "# Print the median and the mean of the surface z-values.\n",
        "print(\"The mean is \" + str(round(np.mean(zz),2)))\n",
        "print(\"The median is \" + str(round(np.median(zz),2)))"
      ],
      "metadata": {
        "id": "0hORVo8cg-nU",
        "colab": {
          "base_uri": "https://localhost:8080/"
        },
        "outputId": "62fd8446-c8a9-42d9-d437-2f272432e909"
      },
      "execution_count": 38,
      "outputs": [
        {
          "output_type": "stream",
          "name": "stdout",
          "text": [
            "The mean is 119546.88\n",
            "The median is 33004.0\n"
          ]
        }
      ]
    },
    {
      "cell_type": "markdown",
      "source": [
        "--------------------"
      ],
      "metadata": {
        "id": "apjd8MX-hs0e"
      }
    },
    {
      "cell_type": "markdown",
      "source": [
        "# Dont forget to [submit](https://docs.google.com/forms/d/e/1FAIpQLScTixvHOuwRY7-_kjGF7nqY7NzUKHxs24iRBotuZjsWCvuYFw/viewform) your result and GOOD LUCK!! ⚡"
      ],
      "metadata": {
        "id": "BU0nXIQAhlRG"
      }
    }
  ]
}