{
  "nbformat": 4,
  "nbformat_minor": 0,
  "metadata": {
    "colab": {
      "provenance": [],
      "include_colab_link": true
    },
    "kernelspec": {
      "name": "python3",
      "display_name": "Python 3"
    },
    "language_info": {
      "name": "python"
    }
  },
  "cells": [
    {
      "cell_type": "markdown",
      "metadata": {
        "id": "view-in-github",
        "colab_type": "text"
      },
      "source": [
        "<a href=\"https://colab.research.google.com/github/dancopeland/creative-machine-learning-for-design/blob/master/4_453x_HW_0_Dan_Copeland.ipynb\" target=\"_parent\"><img src=\"https://colab.research.google.com/assets/colab-badge.svg\" alt=\"Open In Colab\"/></a>"
      ]
    },
    {
      "cell_type": "markdown",
      "source": [
        "#Homework 0 | Introductory exercise 🔥\n",
        "4.453x Creative Machine Learning for Design \n",
        "<br/>*Renaud Danhaive, Ous Abou Ras, Natasha Hirt, Caitlin Mueller*\n",
        "<br/><br/>\n",
        "\n",
        "\n",
        "---\n",
        "<font size=\"-1\">*Please **make a copy** of this file in your own Google Drive to edit as the original notebook will be private, and you might lose access to your file if you don't save it.*\n",
        " **You don't need to submit this notebook, you only need to submit your answers in the [Google form](https://docs.google.com/forms/d/e/1FAIpQLScTixvHOuwRY7-_kjGF7nqY7NzUKHxs24iRBotuZjsWCvuYFw/viewform).**</font>\n",
        "<br/><br/>\n",
        "\n",
        "This short exercise is to help us verify your experience in Python. You will be needing the libraries NumPy and MatplotLib to complete this assignment.\n",
        "\n",
        "For this exercise, you will need to **plot a heat map** of the Goldstein-price function, **plot a histogram of the z-values in the surface**, and **find its mean and median**. The notebook below will walk you through the steps needed to complete this assignment, but you are expected to write your own code for the most part. Please submit your answers on this [Google form](https://docs.google.com/forms/d/e/1FAIpQLScTixvHOuwRY7-_kjGF7nqY7NzUKHxs24iRBotuZjsWCvuYFw/viewform) by the deadline specified. You can screenshot or use the Snippet tool to submit your plot results.\n"
      ],
      "metadata": {
        "id": "Ojfi1cmxarwa"
      }
    },
    {
      "cell_type": "markdown",
      "source": [
        "-----------------"
      ],
      "metadata": {
        "id": "XfipBjZkcH9y"
      }
    },
    {
      "cell_type": "markdown",
      "source": [
        "### 0.0 | To start, we provide you with the library imports you will need, NumPy and Matplotlib."
      ],
      "metadata": {
        "id": "Rx-aRCHccMsH"
      }
    },
    {
      "cell_type": "code",
      "source": [
        "# imports\n",
        "import numpy as np\n",
        "import matplotlib.pyplot as plt"
      ],
      "metadata": {
        "id": "dC2uX_B1QvsA"
      },
      "execution_count": null,
      "outputs": []
    },
    {
      "cell_type": "markdown",
      "source": [
        "### 1.0 ❓ The next step is to find the Goldstein-Price function on Wikipedia using this [link](https://en.wikipedia.org/wiki/Test_functions_for_optimization) and defining the function and a range of x and y values with the correct corresponding boundaries/domain (see \"search domain\" in the Wikipedia table). Then find all z values for all x and y using that function. You are basically finding the z coordinates of a surface given a 2D grid of x and y!\n",
        "\n",
        "*NOTE: To define x and y, you can use `np.arange` with a step of `0.1` or `np.linspace` with a resolution of `40` (or whatever resolution you feel is best!). You can refer to the numpy documentation for either functions. Here are links for [np.arange](https://numpy.org/doc/stable/reference/generated/numpy.arange.html) and [np.linspace](https://numpy.org/doc/stable/reference/generated/numpy.linspace.html) .*"
      ],
      "metadata": {
        "id": "I2-WDkjsca4T"
      }
    },
    {
      "cell_type": "code",
      "source": [
        "# x and y ranges\n",
        "\n",
        "# Create a Goldstein function using `def goldstein_func(x,y):`\n",
        "\n",
        "# Define all Z values for all x and y using the function\n",
        "\n",
        "def goldstein_func(x,y):\n"
      ],
      "metadata": {
        "id": "HKhODMwZdqat"
      },
      "execution_count": null,
      "outputs": []
    },
    {
      "cell_type": "markdown",
      "source": [
        "### 2.0 ❓ Next, plot a 2D heat map of the function/surface (in other words, an overhead or plan view). \n",
        "\n",
        "*You will need to use [`plt.imshow`](https://matplotlib.org/stable/api/_as_gen/matplotlib.pyplot.imshow.html). Feel free to search the internet for examples on how this is done!*"
      ],
      "metadata": {
        "id": "QEVp4SZGd8_H"
      }
    },
    {
      "cell_type": "code",
      "source": [
        "# plot the heat map!"
      ],
      "metadata": {
        "id": "G1zm8lb5gDlj"
      },
      "execution_count": null,
      "outputs": []
    },
    {
      "cell_type": "markdown",
      "source": [
        "### 3.0 ❓ Another way to understand the characteristics of the surface in a non-spatial way is to get a sense for its z-values.  We'll use a histogram for this.  Plot a histogram of all the z-values of the function/surface. Remember that z is currently a 2D array so you will need to flatten it (convert it into a 1D array/vector) to be able to plot the histogram. \n",
        "\n",
        "*To plot a histogram, you can use [`plt.hist`](https://matplotlib.org/stable/api/_as_gen/matplotlib.pyplot.hist.html) and you can flatten a numpy array using the `some_array.flatten()` class.*\n"
      ],
      "metadata": {
        "id": "YN5QNICbXYgQ"
      }
    },
    {
      "cell_type": "code",
      "source": [
        "# plot the histogram!"
      ],
      "metadata": {
        "id": "TIyqphvdg8V7"
      },
      "execution_count": null,
      "outputs": []
    },
    {
      "cell_type": "markdown",
      "source": [
        "### 4.0 ❓ Finally, let's use some summary statistics to characterize this geometry.  Find the mean and the median of the z-values of the surface. \n",
        "\n",
        "*You can use `np.mean()` and `np.median` for that. You can search the numpy documentation to figure out how to use them as well. *\n",
        "\n",
        "#### **Print the values and submit them on the Google form!**"
      ],
      "metadata": {
        "id": "GTZwshFLhACW"
      }
    },
    {
      "cell_type": "code",
      "source": [
        "# Print the median and the mean of the surface z-values."
      ],
      "metadata": {
        "id": "0hORVo8cg-nU"
      },
      "execution_count": null,
      "outputs": []
    },
    {
      "cell_type": "markdown",
      "source": [
        "--------------------"
      ],
      "metadata": {
        "id": "apjd8MX-hs0e"
      }
    },
    {
      "cell_type": "markdown",
      "source": [
        "# Dont forget to [submit](https://docs.google.com/forms/d/e/1FAIpQLScTixvHOuwRY7-_kjGF7nqY7NzUKHxs24iRBotuZjsWCvuYFw/viewform) your result and GOOD LUCK!! ⚡"
      ],
      "metadata": {
        "id": "BU0nXIQAhlRG"
      }
    }
  ]
}